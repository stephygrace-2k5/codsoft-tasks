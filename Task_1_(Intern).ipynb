{
  "nbformat": 4,
  "nbformat_minor": 0,
  "metadata": {
    "colab": {
      "provenance": []
    },
    "kernelspec": {
      "name": "python3",
      "display_name": "Python 3"
    },
    "language_info": {
      "name": "python"
    }
  },
  "cells": [
    {
      "cell_type": "code",
      "execution_count": null,
      "metadata": {
        "colab": {
          "base_uri": "https://localhost:8080/"
        },
        "id": "A3D-D6qAPdfM",
        "outputId": "333aa177-e39f-40e1-cb4f-54e5163a9ace"
      },
      "outputs": [
        {
          "output_type": "stream",
          "name": "stdout",
          "text": [
            "✅ Your predictions are ready and saved as predicted_genres.csv!\n"
          ]
        }
      ],
      "source": [
        "import pandas as pd\n",
        "from sklearn.feature_extraction.text import TfidfVectorizer\n",
        "from sklearn.linear_model import LogisticRegression\n",
        "from sklearn.pipeline import make_pipeline\n",
        "\n",
        "# Load your CSV files, adjust separator if needed\n",
        "train = pd.read_csv(\"train.csv\", sep=\":::\", engine=\"python\", header=None)\n",
        "train.columns = [\"ID\", \"TITLE\", \"GENRE\", \"DESCRIPTION\"]\n",
        "\n",
        "test = pd.read_csv(\"test.csv\", sep=\":::\", engine=\"python\", header=None)\n",
        "test.columns = [\"ID\", \"TITLE\", \"DESCRIPTION\"]\n",
        "\n",
        "# Remove missing values\n",
        "train.dropna(subset=[\"DESCRIPTION\", \"GENRE\"], inplace=True)\n",
        "test.dropna(subset=[\"DESCRIPTION\"], inplace=True)\n",
        "\n",
        "# Build and train the model\n",
        "model = make_pipeline(TfidfVectorizer(), LogisticRegression(max_iter=1000))\n",
        "model.fit(train[\"DESCRIPTION\"], train[\"GENRE\"])\n",
        "\n",
        "# Predict genres for test data\n",
        "test[\"PREDICTED_GENRE\"] = model.predict(test[\"DESCRIPTION\"])\n",
        "\n",
        "# Save the predictions\n",
        "test.to_csv(\"predicted_genres.csv\", index=False)\n",
        "print(\"✅ Your predictions are ready and saved as predicted_genres.csv!\")\n"
      ]
    }
  ]
}