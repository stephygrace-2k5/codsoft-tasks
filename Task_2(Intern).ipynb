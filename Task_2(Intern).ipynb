{
  "nbformat": 4,
  "nbformat_minor": 0,
  "metadata": {
    "colab": {
      "provenance": []
    },
    "kernelspec": {
      "name": "python3",
      "display_name": "Python 3"
    },
    "language_info": {
      "name": "python"
    }
  },
  "cells": [
    {
      "cell_type": "code",
      "execution_count": null,
      "metadata": {
        "colab": {
          "base_uri": "https://localhost:8080/"
        },
        "id": "vpUNkxxhdz4j",
        "outputId": "32467645-c470-449d-a6eb-a52b5842e5dd"
      },
      "outputs": [
        {
          "output_type": "stream",
          "name": "stdout",
          "text": [
            "Train columns:\n",
            " Index(['Unnamed: 0', 'trans_date_trans_time', 'cc_num', 'merchant', 'category',\n",
            "       'amt', 'first', 'last', 'gender', 'street', 'city', 'state', 'zip',\n",
            "       'lat', 'long', 'city_pop', 'job', 'dob', 'trans_num', 'unix_time',\n",
            "       'merch_lat', 'merch_long', 'is_fraud'],\n",
            "      dtype='object')\n"
          ]
        }
      ],
      "source": [
        "import pandas as pd\n",
        "\n",
        "train = pd.read_csv(\"fraudTrain.csv\")\n",
        "test = pd.read_csv(\"fraudTest.csv\")\n",
        "\n",
        "print(\"Train columns:\\n\", train.columns)\n"
      ]
    },
    {
      "cell_type": "markdown",
      "source": [
        "Select only useful numeric columns:"
      ],
      "metadata": {
        "id": "n8BZ5IZpiDAC"
      }
    },
    {
      "cell_type": "code",
      "source": [
        "features = ['amt', 'lat', 'long', 'city_pop', 'unix_time', 'merch_lat', 'merch_long']\n",
        "X = train[features]\n",
        "y = train['is_fraud']\n",
        "\n",
        "# Do the same for test\n",
        "X_test = test[features]\n",
        "y_test = test['is_fraud']\n"
      ],
      "metadata": {
        "id": "frrlobLEfLNJ"
      },
      "execution_count": null,
      "outputs": []
    },
    {
      "cell_type": "markdown",
      "source": [
        "\n",
        "\n",
        "---\n",
        "\n",
        "\n",
        "\n",
        "---\n",
        "\n"
      ],
      "metadata": {
        "id": "HD2z1hUtiXtS"
      }
    },
    {
      "cell_type": "markdown",
      "source": [
        "Train the model:"
      ],
      "metadata": {
        "id": "ZNrZJWKViE7e"
      }
    },
    {
      "cell_type": "code",
      "source": [
        "import pandas as pd\n",
        "from sklearn.ensemble import RandomForestClassifier\n",
        "from sklearn.metrics import classification_report\n",
        "\n",
        "# Load datasets\n",
        "train = pd.read_csv(\"fraudTrain.csv\")\n",
        "test = pd.read_csv(\"fraudTest.csv\")\n",
        "\n",
        "# Select important columns\n",
        "features = ['amt', 'lat', 'long', 'city_pop', 'unix_time', 'merch_lat', 'merch_long']\n",
        "X = train[features]\n",
        "y = train['is_fraud']\n",
        "\n",
        "# Drop rows with missing target\n",
        "X = X[y.notna()]\n",
        "y = y[y.notna()]\n",
        "\n",
        "# Prepare test set\n",
        "X_test = test[features]\n",
        "y_test = test['is_fraud']\n",
        "X_test = X_test[y_test.notna()]\n",
        "y_test = y_test[y_test.notna()]\n",
        "\n",
        "# Train model\n",
        "model = RandomForestClassifier()\n",
        "model.fit(X, y)\n",
        "\n",
        "# Predict\n",
        "predictions = model.predict(X_test)\n",
        "\n",
        "# Show report\n",
        "print(classification_report(y_test, predictions))\n"
      ],
      "metadata": {
        "colab": {
          "base_uri": "https://localhost:8080/"
        },
        "id": "tGM71qfnfMkI",
        "outputId": "c9c5be12-f36f-4074-8826-5369073711ed"
      },
      "execution_count": null,
      "outputs": [
        {
          "output_type": "stream",
          "name": "stdout",
          "text": [
            "              precision    recall  f1-score   support\n",
            "\n",
            "           0       1.00      1.00      1.00    553574\n",
            "           1       0.31      0.03      0.05      2145\n",
            "\n",
            "    accuracy                           1.00    555719\n",
            "   macro avg       0.65      0.51      0.53    555719\n",
            "weighted avg       0.99      1.00      0.99    555719\n",
            "\n"
          ]
        }
      ]
    },
    {
      "cell_type": "markdown",
      "source": [
        "Save the predictions to a CSV file (output file)\n"
      ],
      "metadata": {
        "id": "QRxx3WKTice3"
      }
    },
    {
      "cell_type": "code",
      "source": [
        "import pandas as pd\n",
        "\n",
        "# Save predictions with IDs to CSV\n",
        "output = test.copy()\n",
        "output = output[['trans_num']]  # keeping only transaction ID\n",
        "output['predicted_is_fraud'] = predictions\n",
        "output.to_csv(\"predicted_fraud_results.csv\", index=False)\n",
        "\n",
        "print(\"✅ Predictions saved to 'predicted_fraud_results.csv'\")\n"
      ],
      "metadata": {
        "colab": {
          "base_uri": "https://localhost:8080/"
        },
        "id": "5Z_9Pw8qhhzg",
        "outputId": "6991f196-b768-4786-c48d-938d462cec14"
      },
      "execution_count": null,
      "outputs": [
        {
          "output_type": "stream",
          "name": "stdout",
          "text": [
            "✅ Predictions saved to 'predicted_fraud_results.csv'\n"
          ]
        }
      ]
    }
  ]
}